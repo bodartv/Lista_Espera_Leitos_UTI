{
 "cells": [
  {
   "cell_type": "markdown",
   "metadata": {},
   "source": [
    "# <font color='red'>Lista de Espera por Leitos de UTI no Distrito Federal - 12/03/2020, 17:05:05</font>\n",
    "### Fonte dos Dados Abertos: https://salasit.saude.df.gov.br/lista-de-uti/#"
   ]
  },
  {
   "cell_type": "code",
   "execution_count": 1,
   "metadata": {
    "colab": {
     "base_uri": "https://localhost:8080/",
     "height": 17
    },
    "colab_type": "code",
    "id": "5IpRwO0XG8-Z",
    "outputId": "06eb166e-5f5c-4f57-f697-61a8a17f5d75"
   },
   "outputs": [],
   "source": [
    "# Importando as bibliotecas do Python\n",
    "\n",
    "import pandas as pd\n",
    "from datetime import datetime\n",
    "import locale\n",
    "import glob\n",
    "import warnings\n",
    "warnings.filterwarnings(\"ignore\")"
   ]
  },
  {
   "cell_type": "code",
   "execution_count": 2,
   "metadata": {},
   "outputs": [],
   "source": [
    "# Lendo o dataset e convertendo em um dataframe com Pandas\n",
    "df = pd.read_csv('C:\\PROJETOS_GIT_DEV\\Lista_Espera_Leitos_UTI\\Arquivos\\LISTA_UTI_12_03_2020.csv', sep='|')"
   ]
  },
  {
   "cell_type": "code",
   "execution_count": 3,
   "metadata": {
    "colab": {
     "base_uri": "https://localhost:8080/",
     "height": 217
    },
    "colab_type": "code",
    "id": "Yza1HbbRXkcw",
    "outputId": "4e1b6d84-3cb3-429d-b827-40c840f5e495"
   },
   "outputs": [
    {
     "name": "stdout",
     "output_type": "stream",
     "text": [
      "<class 'pandas.core.frame.DataFrame'>\n",
      "RangeIndex: 80 entries, 0 to 79\n",
      "Data columns (total 5 columns):\n",
      "Prioridade          80 non-null object\n",
      "Data                80 non-null object\n",
      "Hora                80 non-null object\n",
      "N* da Passagem      80 non-null object\n",
      "Subtipo de Leito    80 non-null object\n",
      "dtypes: object(5)\n",
      "memory usage: 3.2+ KB\n"
     ]
    }
   ],
   "source": [
    "df.info()"
   ]
  },
  {
   "cell_type": "code",
   "execution_count": 4,
   "metadata": {},
   "outputs": [
    {
     "data": {
      "text/plain": [
       "Prioridade          0\n",
       "Data                0\n",
       "Hora                0\n",
       "N* da Passagem      0\n",
       "Subtipo de Leito    0\n",
       "dtype: int64"
      ]
     },
     "execution_count": 4,
     "metadata": {},
     "output_type": "execute_result"
    }
   ],
   "source": [
    "# Verificando a quantidade de valores nulos nas colunas\n",
    "df.isnull().sum()"
   ]
  },
  {
   "cell_type": "code",
   "execution_count": 5,
   "metadata": {},
   "outputs": [
    {
     "name": "stdout",
     "output_type": "stream",
     "text": [
      "Quantidade de registros: 80\n"
     ]
    }
   ],
   "source": [
    "# Quantidade de registros\n",
    "print('Quantidade de registros:', len(df.index))"
   ]
  },
  {
   "cell_type": "code",
   "execution_count": 6,
   "metadata": {},
   "outputs": [
    {
     "data": {
      "text/html": [
       "<div>\n",
       "<style scoped>\n",
       "    .dataframe tbody tr th:only-of-type {\n",
       "        vertical-align: middle;\n",
       "    }\n",
       "\n",
       "    .dataframe tbody tr th {\n",
       "        vertical-align: top;\n",
       "    }\n",
       "\n",
       "    .dataframe thead th {\n",
       "        text-align: right;\n",
       "    }\n",
       "</style>\n",
       "<table border=\"1\" class=\"dataframe\">\n",
       "  <thead>\n",
       "    <tr style=\"text-align: right;\">\n",
       "      <th></th>\n",
       "      <th>Prioridade</th>\n",
       "      <th>Data</th>\n",
       "      <th>Hora</th>\n",
       "      <th>N* da Passagem</th>\n",
       "      <th>Subtipo de Leito</th>\n",
       "    </tr>\n",
       "  </thead>\n",
       "  <tbody>\n",
       "    <tr>\n",
       "      <th>0</th>\n",
       "      <td>1</td>\n",
       "      <td>12/03/2020</td>\n",
       "      <td>00:14</td>\n",
       "      <td>I2586063</td>\n",
       "      <td>Pediátrico</td>\n",
       "    </tr>\n",
       "    <tr>\n",
       "      <th>1</th>\n",
       "      <td>1</td>\n",
       "      <td>12/03/2020</td>\n",
       "      <td>00:54</td>\n",
       "      <td>I2586135</td>\n",
       "      <td>Neonatal</td>\n",
       "    </tr>\n",
       "    <tr>\n",
       "      <th>2</th>\n",
       "      <td>1</td>\n",
       "      <td>12/03/2020</td>\n",
       "      <td>01:09</td>\n",
       "      <td>I2586138</td>\n",
       "      <td>Adulto</td>\n",
       "    </tr>\n",
       "    <tr>\n",
       "      <th>3</th>\n",
       "      <td>1</td>\n",
       "      <td>12/03/2020</td>\n",
       "      <td>05:13</td>\n",
       "      <td>I2583210</td>\n",
       "      <td>Coronariano</td>\n",
       "    </tr>\n",
       "    <tr>\n",
       "      <th>4</th>\n",
       "      <td>1</td>\n",
       "      <td>12/03/2020</td>\n",
       "      <td>07:57</td>\n",
       "      <td>I2586257</td>\n",
       "      <td>Não Informado</td>\n",
       "    </tr>\n",
       "  </tbody>\n",
       "</table>\n",
       "</div>"
      ],
      "text/plain": [
       "  Prioridade        Data   Hora N* da Passagem Subtipo de Leito\n",
       "0          1  12/03/2020  00:14       I2586063       Pediátrico\n",
       "1          1  12/03/2020  00:54       I2586135         Neonatal\n",
       "2          1  12/03/2020  01:09       I2586138           Adulto\n",
       "3          1  12/03/2020  05:13       I2583210      Coronariano\n",
       "4          1  12/03/2020  07:57       I2586257    Não Informado"
      ]
     },
     "execution_count": 6,
     "metadata": {},
     "output_type": "execute_result"
    }
   ],
   "source": [
    "df.head()"
   ]
  },
  {
   "cell_type": "code",
   "execution_count": 7,
   "metadata": {},
   "outputs": [],
   "source": [
    "# Renomeando colunas\n",
    "df = df.rename(columns={'N* da Passagem': 'NU_Passagem'})\n",
    "df = df.rename(columns={'Subtipo de Leito': 'Subtipo_Leito'})"
   ]
  },
  {
   "cell_type": "code",
   "execution_count": 8,
   "metadata": {
    "colab": {},
    "colab_type": "code",
    "id": "-r7Wl3XXYu4k"
   },
   "outputs": [],
   "source": [
    "# Concatenando as colunas 'Data' e 'Hora'\n",
    "df['Data_Hora'] = df['Data'] + ' ' + df['Hora']"
   ]
  },
  {
   "cell_type": "code",
   "execution_count": 9,
   "metadata": {},
   "outputs": [],
   "source": [
    "del df['Data']\n",
    "del df['Hora']"
   ]
  },
  {
   "cell_type": "code",
   "execution_count": 10,
   "metadata": {},
   "outputs": [
    {
     "data": {
      "text/html": [
       "<div>\n",
       "<style scoped>\n",
       "    .dataframe tbody tr th:only-of-type {\n",
       "        vertical-align: middle;\n",
       "    }\n",
       "\n",
       "    .dataframe tbody tr th {\n",
       "        vertical-align: top;\n",
       "    }\n",
       "\n",
       "    .dataframe thead th {\n",
       "        text-align: right;\n",
       "    }\n",
       "</style>\n",
       "<table border=\"1\" class=\"dataframe\">\n",
       "  <thead>\n",
       "    <tr style=\"text-align: right;\">\n",
       "      <th></th>\n",
       "      <th>Prioridade</th>\n",
       "      <th>NU_Passagem</th>\n",
       "      <th>Subtipo_Leito</th>\n",
       "      <th>Data_Hora</th>\n",
       "    </tr>\n",
       "  </thead>\n",
       "  <tbody>\n",
       "    <tr>\n",
       "      <th>0</th>\n",
       "      <td>1</td>\n",
       "      <td>I2586063</td>\n",
       "      <td>Pediátrico</td>\n",
       "      <td>12/03/2020 00:14</td>\n",
       "    </tr>\n",
       "    <tr>\n",
       "      <th>1</th>\n",
       "      <td>1</td>\n",
       "      <td>I2586135</td>\n",
       "      <td>Neonatal</td>\n",
       "      <td>12/03/2020 00:54</td>\n",
       "    </tr>\n",
       "    <tr>\n",
       "      <th>2</th>\n",
       "      <td>1</td>\n",
       "      <td>I2586138</td>\n",
       "      <td>Adulto</td>\n",
       "      <td>12/03/2020 01:09</td>\n",
       "    </tr>\n",
       "    <tr>\n",
       "      <th>3</th>\n",
       "      <td>1</td>\n",
       "      <td>I2583210</td>\n",
       "      <td>Coronariano</td>\n",
       "      <td>12/03/2020 05:13</td>\n",
       "    </tr>\n",
       "    <tr>\n",
       "      <th>4</th>\n",
       "      <td>1</td>\n",
       "      <td>I2586257</td>\n",
       "      <td>Não Informado</td>\n",
       "      <td>12/03/2020 07:57</td>\n",
       "    </tr>\n",
       "  </tbody>\n",
       "</table>\n",
       "</div>"
      ],
      "text/plain": [
       "  Prioridade NU_Passagem  Subtipo_Leito         Data_Hora\n",
       "0          1    I2586063     Pediátrico  12/03/2020 00:14\n",
       "1          1    I2586135       Neonatal  12/03/2020 00:54\n",
       "2          1    I2586138         Adulto  12/03/2020 01:09\n",
       "3          1    I2583210    Coronariano  12/03/2020 05:13\n",
       "4          1    I2586257  Não Informado  12/03/2020 07:57"
      ]
     },
     "execution_count": 10,
     "metadata": {},
     "output_type": "execute_result"
    }
   ],
   "source": [
    "df.head()"
   ]
  },
  {
   "cell_type": "code",
   "execution_count": 11,
   "metadata": {},
   "outputs": [],
   "source": [
    "# Convertendo a coluna 'Data_Hora' em datetime\n",
    "df['Data_Hora'] =  pd.to_datetime(df['Data_Hora'], format='%d/%m/%Y %H:%M')"
   ]
  },
  {
   "cell_type": "code",
   "execution_count": 12,
   "metadata": {},
   "outputs": [
    {
     "data": {
      "text/html": [
       "<div>\n",
       "<style scoped>\n",
       "    .dataframe tbody tr th:only-of-type {\n",
       "        vertical-align: middle;\n",
       "    }\n",
       "\n",
       "    .dataframe tbody tr th {\n",
       "        vertical-align: top;\n",
       "    }\n",
       "\n",
       "    .dataframe thead th {\n",
       "        text-align: right;\n",
       "    }\n",
       "</style>\n",
       "<table border=\"1\" class=\"dataframe\">\n",
       "  <thead>\n",
       "    <tr style=\"text-align: right;\">\n",
       "      <th></th>\n",
       "      <th>Prioridade</th>\n",
       "      <th>NU_Passagem</th>\n",
       "      <th>Subtipo_Leito</th>\n",
       "      <th>Data_Hora</th>\n",
       "    </tr>\n",
       "  </thead>\n",
       "  <tbody>\n",
       "    <tr>\n",
       "      <th>0</th>\n",
       "      <td>1</td>\n",
       "      <td>I2586063</td>\n",
       "      <td>Pediátrico</td>\n",
       "      <td>2020-03-12 00:14:00</td>\n",
       "    </tr>\n",
       "    <tr>\n",
       "      <th>1</th>\n",
       "      <td>1</td>\n",
       "      <td>I2586135</td>\n",
       "      <td>Neonatal</td>\n",
       "      <td>2020-03-12 00:54:00</td>\n",
       "    </tr>\n",
       "    <tr>\n",
       "      <th>2</th>\n",
       "      <td>1</td>\n",
       "      <td>I2586138</td>\n",
       "      <td>Adulto</td>\n",
       "      <td>2020-03-12 01:09:00</td>\n",
       "    </tr>\n",
       "    <tr>\n",
       "      <th>3</th>\n",
       "      <td>1</td>\n",
       "      <td>I2583210</td>\n",
       "      <td>Coronariano</td>\n",
       "      <td>2020-03-12 05:13:00</td>\n",
       "    </tr>\n",
       "    <tr>\n",
       "      <th>4</th>\n",
       "      <td>1</td>\n",
       "      <td>I2586257</td>\n",
       "      <td>Não Informado</td>\n",
       "      <td>2020-03-12 07:57:00</td>\n",
       "    </tr>\n",
       "  </tbody>\n",
       "</table>\n",
       "</div>"
      ],
      "text/plain": [
       "  Prioridade NU_Passagem  Subtipo_Leito           Data_Hora\n",
       "0          1    I2586063     Pediátrico 2020-03-12 00:14:00\n",
       "1          1    I2586135       Neonatal 2020-03-12 00:54:00\n",
       "2          1    I2586138         Adulto 2020-03-12 01:09:00\n",
       "3          1    I2583210    Coronariano 2020-03-12 05:13:00\n",
       "4          1    I2586257  Não Informado 2020-03-12 07:57:00"
      ]
     },
     "execution_count": 12,
     "metadata": {},
     "output_type": "execute_result"
    }
   ],
   "source": [
    "df.head()"
   ]
  },
  {
   "cell_type": "code",
   "execution_count": 13,
   "metadata": {},
   "outputs": [
    {
     "data": {
      "text/plain": [
       "Prioridade               object\n",
       "NU_Passagem              object\n",
       "Subtipo_Leito            object\n",
       "Data_Hora        datetime64[ns]\n",
       "dtype: object"
      ]
     },
     "execution_count": 13,
     "metadata": {},
     "output_type": "execute_result"
    }
   ],
   "source": [
    "df.dtypes"
   ]
  },
  {
   "cell_type": "code",
   "execution_count": 14,
   "metadata": {
    "colab": {},
    "colab_type": "code",
    "id": "KVyTCnSWfKKi"
   },
   "outputs": [],
   "source": [
    "# Criando a coluna de Hora com tipo time e valor cheio\n",
    "df['Hora'] = df['Data_Hora'].apply(lambda time: time.hour)"
   ]
  },
  {
   "cell_type": "code",
   "execution_count": 15,
   "metadata": {},
   "outputs": [],
   "source": [
    "# Definindo o id do mês\n",
    "df['Id_Mes'] = df['Data_Hora'].dt.month"
   ]
  },
  {
   "cell_type": "code",
   "execution_count": 16,
   "metadata": {},
   "outputs": [],
   "source": [
    "# Definindo o nome do mês\n",
    "df['Nome_Mes'] = df.Data_Hora.dt.month_name(locale = 'Portuguese') "
   ]
  },
  {
   "cell_type": "code",
   "execution_count": 17,
   "metadata": {
    "colab": {},
    "colab_type": "code",
    "id": "GvEE6UtPfe3b"
   },
   "outputs": [],
   "source": [
    "# Definindo o id do dia da semana\n",
    "df['Id_Dia_Semana'] = df['Data_Hora'].dt.weekday    "
   ]
  },
  {
   "cell_type": "code",
   "execution_count": 18,
   "metadata": {
    "colab": {},
    "colab_type": "code",
    "id": "ct7pFuzng_d7"
   },
   "outputs": [],
   "source": [
    "# Definindo o nome do dia da semana\n",
    "df['Nome_Dia_Semana'] = df.Data_Hora.dt.day_name(locale='pt')"
   ]
  },
  {
   "cell_type": "code",
   "execution_count": 19,
   "metadata": {
    "colab": {
     "base_uri": "https://localhost:8080/",
     "height": 35
    },
    "colab_type": "code",
    "id": "oWH3yhVjq0Wr",
    "outputId": "3ce5451c-893f-45ae-eed9-ff30d39bd5d4"
   },
   "outputs": [
    {
     "name": "stdout",
     "output_type": "stream",
     "text": [
      "[3 1 2 5 0 4 6]\n"
     ]
    }
   ],
   "source": [
    "# Verificando o id_dia_semana\n",
    "qw=pd.unique(df[['Id_Dia_Semana']].values.ravel()) \n",
    "print(qw)"
   ]
  },
  {
   "cell_type": "code",
   "execution_count": 20,
   "metadata": {
    "colab": {},
    "colab_type": "code",
    "id": "Sj2zECqnqgqD"
   },
   "outputs": [],
   "source": [
    "# Função para ajustar o id do dia da semana\n",
    "def ajusta_id_dia_semana(id_dia):\n",
    "    if id_dia == 6: #domingo\n",
    "        novo_id = 1\n",
    "    elif id_dia == 0: #segunda\n",
    "        novo_id = 2\n",
    "    elif id_dia == 1: #terça\n",
    "        novo_id = 3\n",
    "    elif id_dia == 2: #quarta\n",
    "        novo_id = 4\n",
    "    elif id_dia == 3: #quinta\n",
    "        novo_id = 5\n",
    "    elif id_dia == 4: #sexta\n",
    "        novo_id = 6\n",
    "    elif id_dia == 5: #sábado\n",
    "        novo_id = 7\n",
    "    return novo_id"
   ]
  },
  {
   "cell_type": "code",
   "execution_count": 21,
   "metadata": {
    "colab": {},
    "colab_type": "code",
    "id": "9DVGivcsrH67"
   },
   "outputs": [],
   "source": [
    "# Ajustando os valores da coluna Id_Dia_Semana\n",
    "df['Id_Dia_Semana'] = df.Id_Dia_Semana.apply(ajusta_id_dia_semana)"
   ]
  },
  {
   "cell_type": "code",
   "execution_count": 22,
   "metadata": {
    "colab": {
     "base_uri": "https://localhost:8080/",
     "height": 206
    },
    "colab_type": "code",
    "id": "s_-KMEuarWKG",
    "outputId": "1f62dff4-8f0a-473d-fc51-680b1e15594b"
   },
   "outputs": [
    {
     "data": {
      "text/html": [
       "<div>\n",
       "<style scoped>\n",
       "    .dataframe tbody tr th:only-of-type {\n",
       "        vertical-align: middle;\n",
       "    }\n",
       "\n",
       "    .dataframe tbody tr th {\n",
       "        vertical-align: top;\n",
       "    }\n",
       "\n",
       "    .dataframe thead th {\n",
       "        text-align: right;\n",
       "    }\n",
       "</style>\n",
       "<table border=\"1\" class=\"dataframe\">\n",
       "  <thead>\n",
       "    <tr style=\"text-align: right;\">\n",
       "      <th></th>\n",
       "      <th>Prioridade</th>\n",
       "      <th>NU_Passagem</th>\n",
       "      <th>Subtipo_Leito</th>\n",
       "      <th>Data_Hora</th>\n",
       "      <th>Hora</th>\n",
       "      <th>Id_Mes</th>\n",
       "      <th>Nome_Mes</th>\n",
       "      <th>Id_Dia_Semana</th>\n",
       "      <th>Nome_Dia_Semana</th>\n",
       "    </tr>\n",
       "  </thead>\n",
       "  <tbody>\n",
       "    <tr>\n",
       "      <th>0</th>\n",
       "      <td>1</td>\n",
       "      <td>I2586063</td>\n",
       "      <td>Pediátrico</td>\n",
       "      <td>2020-03-12 00:14:00</td>\n",
       "      <td>0</td>\n",
       "      <td>3</td>\n",
       "      <td>Março</td>\n",
       "      <td>5</td>\n",
       "      <td>Quinta-feira</td>\n",
       "    </tr>\n",
       "    <tr>\n",
       "      <th>1</th>\n",
       "      <td>1</td>\n",
       "      <td>I2586135</td>\n",
       "      <td>Neonatal</td>\n",
       "      <td>2020-03-12 00:54:00</td>\n",
       "      <td>0</td>\n",
       "      <td>3</td>\n",
       "      <td>Março</td>\n",
       "      <td>5</td>\n",
       "      <td>Quinta-feira</td>\n",
       "    </tr>\n",
       "    <tr>\n",
       "      <th>2</th>\n",
       "      <td>1</td>\n",
       "      <td>I2586138</td>\n",
       "      <td>Adulto</td>\n",
       "      <td>2020-03-12 01:09:00</td>\n",
       "      <td>1</td>\n",
       "      <td>3</td>\n",
       "      <td>Março</td>\n",
       "      <td>5</td>\n",
       "      <td>Quinta-feira</td>\n",
       "    </tr>\n",
       "    <tr>\n",
       "      <th>3</th>\n",
       "      <td>1</td>\n",
       "      <td>I2583210</td>\n",
       "      <td>Coronariano</td>\n",
       "      <td>2020-03-12 05:13:00</td>\n",
       "      <td>5</td>\n",
       "      <td>3</td>\n",
       "      <td>Março</td>\n",
       "      <td>5</td>\n",
       "      <td>Quinta-feira</td>\n",
       "    </tr>\n",
       "    <tr>\n",
       "      <th>4</th>\n",
       "      <td>1</td>\n",
       "      <td>I2586257</td>\n",
       "      <td>Não Informado</td>\n",
       "      <td>2020-03-12 07:57:00</td>\n",
       "      <td>7</td>\n",
       "      <td>3</td>\n",
       "      <td>Março</td>\n",
       "      <td>5</td>\n",
       "      <td>Quinta-feira</td>\n",
       "    </tr>\n",
       "  </tbody>\n",
       "</table>\n",
       "</div>"
      ],
      "text/plain": [
       "  Prioridade NU_Passagem  Subtipo_Leito           Data_Hora  Hora  Id_Mes  \\\n",
       "0          1    I2586063     Pediátrico 2020-03-12 00:14:00     0       3   \n",
       "1          1    I2586135       Neonatal 2020-03-12 00:54:00     0       3   \n",
       "2          1    I2586138         Adulto 2020-03-12 01:09:00     1       3   \n",
       "3          1    I2583210    Coronariano 2020-03-12 05:13:00     5       3   \n",
       "4          1    I2586257  Não Informado 2020-03-12 07:57:00     7       3   \n",
       "\n",
       "  Nome_Mes  Id_Dia_Semana Nome_Dia_Semana  \n",
       "0    Março              5    Quinta-feira  \n",
       "1    Março              5    Quinta-feira  \n",
       "2    Março              5    Quinta-feira  \n",
       "3    Março              5    Quinta-feira  \n",
       "4    Março              5    Quinta-feira  "
      ]
     },
     "execution_count": 22,
     "metadata": {},
     "output_type": "execute_result"
    }
   ],
   "source": [
    "df.head()"
   ]
  },
  {
   "cell_type": "code",
   "execution_count": 23,
   "metadata": {
    "colab": {},
    "colab_type": "code",
    "id": "04JWXuUUwyma"
   },
   "outputs": [],
   "source": [
    "# Função para definir o período do dia\n",
    "def define_nome_periodo(hora):\n",
    "    madrugada = [0, 1, 2, 3, 4, 5]\n",
    "    manha = [6, 7, 8, 9, 10, 11, 12]\n",
    "    tarde = [13, 14, 15, 16, 17, 18]\n",
    "    noite = [19, 20, 21, 22, 23]\n",
    "    if hora in madrugada:\n",
    "        nome_periodo = 'Madrugada'\n",
    "    elif hora in manha:\n",
    "        nome_periodo = 'Manhã'\n",
    "    elif hora in tarde:\n",
    "        nome_periodo = 'Tarde'\n",
    "    elif hora in noite:\n",
    "        nome_periodo = 'Noite'\n",
    "    return nome_periodo"
   ]
  },
  {
   "cell_type": "code",
   "execution_count": 24,
   "metadata": {
    "colab": {},
    "colab_type": "code",
    "id": "C8sj7w3-w8Be"
   },
   "outputs": [],
   "source": [
    "# Função para definir o id do período do dia\n",
    "def define_id_periodo(nome_periodo):\n",
    "    if nome_periodo == 'Madrugada':\n",
    "        id_periodo = 1\n",
    "    elif nome_periodo == 'Manhã':\n",
    "        id_periodo = 2\n",
    "    elif nome_periodo == 'Tarde':\n",
    "        id_periodo = 3\n",
    "    elif nome_periodo == 'Noite':\n",
    "        id_periodo = 4\n",
    "    return id_periodo"
   ]
  },
  {
   "cell_type": "code",
   "execution_count": 25,
   "metadata": {
    "colab": {},
    "colab_type": "code",
    "id": "1HTMTpJzxCPw"
   },
   "outputs": [],
   "source": [
    "df['Nome_Periodo'] = df.Hora.apply(define_nome_periodo)"
   ]
  },
  {
   "cell_type": "code",
   "execution_count": 26,
   "metadata": {
    "colab": {},
    "colab_type": "code",
    "id": "fQ9PmvfaxUO6"
   },
   "outputs": [],
   "source": [
    "df['Id_Periodo'] = df.Nome_Periodo.apply(define_id_periodo)"
   ]
  },
  {
   "cell_type": "code",
   "execution_count": 27,
   "metadata": {
    "colab": {
     "base_uri": "https://localhost:8080/",
     "height": 313
    },
    "colab_type": "code",
    "id": "vgIC-bMRxdJB",
    "outputId": "b454c105-39c6-4736-835e-5c72bab4c604"
   },
   "outputs": [
    {
     "data": {
      "text/html": [
       "<div>\n",
       "<style scoped>\n",
       "    .dataframe tbody tr th:only-of-type {\n",
       "        vertical-align: middle;\n",
       "    }\n",
       "\n",
       "    .dataframe tbody tr th {\n",
       "        vertical-align: top;\n",
       "    }\n",
       "\n",
       "    .dataframe thead th {\n",
       "        text-align: right;\n",
       "    }\n",
       "</style>\n",
       "<table border=\"1\" class=\"dataframe\">\n",
       "  <thead>\n",
       "    <tr style=\"text-align: right;\">\n",
       "      <th></th>\n",
       "      <th>Prioridade</th>\n",
       "      <th>NU_Passagem</th>\n",
       "      <th>Subtipo_Leito</th>\n",
       "      <th>Data_Hora</th>\n",
       "      <th>Hora</th>\n",
       "      <th>Id_Mes</th>\n",
       "      <th>Nome_Mes</th>\n",
       "      <th>Id_Dia_Semana</th>\n",
       "      <th>Nome_Dia_Semana</th>\n",
       "      <th>Nome_Periodo</th>\n",
       "      <th>Id_Periodo</th>\n",
       "    </tr>\n",
       "  </thead>\n",
       "  <tbody>\n",
       "    <tr>\n",
       "      <th>0</th>\n",
       "      <td>1</td>\n",
       "      <td>I2586063</td>\n",
       "      <td>Pediátrico</td>\n",
       "      <td>2020-03-12 00:14:00</td>\n",
       "      <td>0</td>\n",
       "      <td>3</td>\n",
       "      <td>Março</td>\n",
       "      <td>5</td>\n",
       "      <td>Quinta-feira</td>\n",
       "      <td>Madrugada</td>\n",
       "      <td>1</td>\n",
       "    </tr>\n",
       "    <tr>\n",
       "      <th>1</th>\n",
       "      <td>1</td>\n",
       "      <td>I2586135</td>\n",
       "      <td>Neonatal</td>\n",
       "      <td>2020-03-12 00:54:00</td>\n",
       "      <td>0</td>\n",
       "      <td>3</td>\n",
       "      <td>Março</td>\n",
       "      <td>5</td>\n",
       "      <td>Quinta-feira</td>\n",
       "      <td>Madrugada</td>\n",
       "      <td>1</td>\n",
       "    </tr>\n",
       "    <tr>\n",
       "      <th>2</th>\n",
       "      <td>1</td>\n",
       "      <td>I2586138</td>\n",
       "      <td>Adulto</td>\n",
       "      <td>2020-03-12 01:09:00</td>\n",
       "      <td>1</td>\n",
       "      <td>3</td>\n",
       "      <td>Março</td>\n",
       "      <td>5</td>\n",
       "      <td>Quinta-feira</td>\n",
       "      <td>Madrugada</td>\n",
       "      <td>1</td>\n",
       "    </tr>\n",
       "    <tr>\n",
       "      <th>3</th>\n",
       "      <td>1</td>\n",
       "      <td>I2583210</td>\n",
       "      <td>Coronariano</td>\n",
       "      <td>2020-03-12 05:13:00</td>\n",
       "      <td>5</td>\n",
       "      <td>3</td>\n",
       "      <td>Março</td>\n",
       "      <td>5</td>\n",
       "      <td>Quinta-feira</td>\n",
       "      <td>Madrugada</td>\n",
       "      <td>1</td>\n",
       "    </tr>\n",
       "    <tr>\n",
       "      <th>4</th>\n",
       "      <td>1</td>\n",
       "      <td>I2586257</td>\n",
       "      <td>Não Informado</td>\n",
       "      <td>2020-03-12 07:57:00</td>\n",
       "      <td>7</td>\n",
       "      <td>3</td>\n",
       "      <td>Março</td>\n",
       "      <td>5</td>\n",
       "      <td>Quinta-feira</td>\n",
       "      <td>Manhã</td>\n",
       "      <td>2</td>\n",
       "    </tr>\n",
       "  </tbody>\n",
       "</table>\n",
       "</div>"
      ],
      "text/plain": [
       "  Prioridade NU_Passagem  Subtipo_Leito           Data_Hora  Hora  Id_Mes  \\\n",
       "0          1    I2586063     Pediátrico 2020-03-12 00:14:00     0       3   \n",
       "1          1    I2586135       Neonatal 2020-03-12 00:54:00     0       3   \n",
       "2          1    I2586138         Adulto 2020-03-12 01:09:00     1       3   \n",
       "3          1    I2583210    Coronariano 2020-03-12 05:13:00     5       3   \n",
       "4          1    I2586257  Não Informado 2020-03-12 07:57:00     7       3   \n",
       "\n",
       "  Nome_Mes  Id_Dia_Semana Nome_Dia_Semana Nome_Periodo  Id_Periodo  \n",
       "0    Março              5    Quinta-feira    Madrugada           1  \n",
       "1    Março              5    Quinta-feira    Madrugada           1  \n",
       "2    Março              5    Quinta-feira    Madrugada           1  \n",
       "3    Março              5    Quinta-feira    Madrugada           1  \n",
       "4    Março              5    Quinta-feira        Manhã           2  "
      ]
     },
     "execution_count": 27,
     "metadata": {},
     "output_type": "execute_result"
    }
   ],
   "source": [
    "df.head()"
   ]
  },
  {
   "cell_type": "code",
   "execution_count": 28,
   "metadata": {
    "colab": {},
    "colab_type": "code",
    "id": "PHlkYBLnx086"
   },
   "outputs": [],
   "source": [
    "# Definindo o id do mês\n",
    "df['Dia'] = df['Data_Hora'].dt.day"
   ]
  },
  {
   "cell_type": "code",
   "execution_count": 29,
   "metadata": {
    "colab": {
     "base_uri": "https://localhost:8080/",
     "height": 313
    },
    "colab_type": "code",
    "id": "8E8gnHoPx7ps",
    "outputId": "e5170611-16cb-4e73-87b7-48a1e5094cc5"
   },
   "outputs": [
    {
     "data": {
      "text/html": [
       "<div>\n",
       "<style scoped>\n",
       "    .dataframe tbody tr th:only-of-type {\n",
       "        vertical-align: middle;\n",
       "    }\n",
       "\n",
       "    .dataframe tbody tr th {\n",
       "        vertical-align: top;\n",
       "    }\n",
       "\n",
       "    .dataframe thead th {\n",
       "        text-align: right;\n",
       "    }\n",
       "</style>\n",
       "<table border=\"1\" class=\"dataframe\">\n",
       "  <thead>\n",
       "    <tr style=\"text-align: right;\">\n",
       "      <th></th>\n",
       "      <th>Prioridade</th>\n",
       "      <th>NU_Passagem</th>\n",
       "      <th>Subtipo_Leito</th>\n",
       "      <th>Data_Hora</th>\n",
       "      <th>Hora</th>\n",
       "      <th>Id_Mes</th>\n",
       "      <th>Nome_Mes</th>\n",
       "      <th>Id_Dia_Semana</th>\n",
       "      <th>Nome_Dia_Semana</th>\n",
       "      <th>Nome_Periodo</th>\n",
       "      <th>Id_Periodo</th>\n",
       "      <th>Dia</th>\n",
       "    </tr>\n",
       "  </thead>\n",
       "  <tbody>\n",
       "    <tr>\n",
       "      <th>0</th>\n",
       "      <td>1</td>\n",
       "      <td>I2586063</td>\n",
       "      <td>Pediátrico</td>\n",
       "      <td>2020-03-12 00:14:00</td>\n",
       "      <td>0</td>\n",
       "      <td>3</td>\n",
       "      <td>Março</td>\n",
       "      <td>5</td>\n",
       "      <td>Quinta-feira</td>\n",
       "      <td>Madrugada</td>\n",
       "      <td>1</td>\n",
       "      <td>12</td>\n",
       "    </tr>\n",
       "    <tr>\n",
       "      <th>1</th>\n",
       "      <td>1</td>\n",
       "      <td>I2586135</td>\n",
       "      <td>Neonatal</td>\n",
       "      <td>2020-03-12 00:54:00</td>\n",
       "      <td>0</td>\n",
       "      <td>3</td>\n",
       "      <td>Março</td>\n",
       "      <td>5</td>\n",
       "      <td>Quinta-feira</td>\n",
       "      <td>Madrugada</td>\n",
       "      <td>1</td>\n",
       "      <td>12</td>\n",
       "    </tr>\n",
       "    <tr>\n",
       "      <th>2</th>\n",
       "      <td>1</td>\n",
       "      <td>I2586138</td>\n",
       "      <td>Adulto</td>\n",
       "      <td>2020-03-12 01:09:00</td>\n",
       "      <td>1</td>\n",
       "      <td>3</td>\n",
       "      <td>Março</td>\n",
       "      <td>5</td>\n",
       "      <td>Quinta-feira</td>\n",
       "      <td>Madrugada</td>\n",
       "      <td>1</td>\n",
       "      <td>12</td>\n",
       "    </tr>\n",
       "    <tr>\n",
       "      <th>3</th>\n",
       "      <td>1</td>\n",
       "      <td>I2583210</td>\n",
       "      <td>Coronariano</td>\n",
       "      <td>2020-03-12 05:13:00</td>\n",
       "      <td>5</td>\n",
       "      <td>3</td>\n",
       "      <td>Março</td>\n",
       "      <td>5</td>\n",
       "      <td>Quinta-feira</td>\n",
       "      <td>Madrugada</td>\n",
       "      <td>1</td>\n",
       "      <td>12</td>\n",
       "    </tr>\n",
       "    <tr>\n",
       "      <th>4</th>\n",
       "      <td>1</td>\n",
       "      <td>I2586257</td>\n",
       "      <td>Não Informado</td>\n",
       "      <td>2020-03-12 07:57:00</td>\n",
       "      <td>7</td>\n",
       "      <td>3</td>\n",
       "      <td>Março</td>\n",
       "      <td>5</td>\n",
       "      <td>Quinta-feira</td>\n",
       "      <td>Manhã</td>\n",
       "      <td>2</td>\n",
       "      <td>12</td>\n",
       "    </tr>\n",
       "  </tbody>\n",
       "</table>\n",
       "</div>"
      ],
      "text/plain": [
       "  Prioridade NU_Passagem  Subtipo_Leito           Data_Hora  Hora  Id_Mes  \\\n",
       "0          1    I2586063     Pediátrico 2020-03-12 00:14:00     0       3   \n",
       "1          1    I2586135       Neonatal 2020-03-12 00:54:00     0       3   \n",
       "2          1    I2586138         Adulto 2020-03-12 01:09:00     1       3   \n",
       "3          1    I2583210    Coronariano 2020-03-12 05:13:00     5       3   \n",
       "4          1    I2586257  Não Informado 2020-03-12 07:57:00     7       3   \n",
       "\n",
       "  Nome_Mes  Id_Dia_Semana Nome_Dia_Semana Nome_Periodo  Id_Periodo  Dia  \n",
       "0    Março              5    Quinta-feira    Madrugada           1   12  \n",
       "1    Março              5    Quinta-feira    Madrugada           1   12  \n",
       "2    Março              5    Quinta-feira    Madrugada           1   12  \n",
       "3    Março              5    Quinta-feira    Madrugada           1   12  \n",
       "4    Março              5    Quinta-feira        Manhã           2   12  "
      ]
     },
     "execution_count": 29,
     "metadata": {},
     "output_type": "execute_result"
    }
   ],
   "source": [
    "df.head()"
   ]
  },
  {
   "cell_type": "markdown",
   "metadata": {},
   "source": [
    "### Estatísticas\n"
   ]
  },
  {
   "cell_type": "code",
   "execution_count": 30,
   "metadata": {},
   "outputs": [
    {
     "data": {
      "text/html": [
       "<div>\n",
       "<style scoped>\n",
       "    .dataframe tbody tr th:only-of-type {\n",
       "        vertical-align: middle;\n",
       "    }\n",
       "\n",
       "    .dataframe tbody tr th {\n",
       "        vertical-align: top;\n",
       "    }\n",
       "\n",
       "    .dataframe thead th {\n",
       "        text-align: right;\n",
       "    }\n",
       "</style>\n",
       "<table border=\"1\" class=\"dataframe\">\n",
       "  <thead>\n",
       "    <tr style=\"text-align: right;\">\n",
       "      <th></th>\n",
       "      <th>Hora</th>\n",
       "      <th>Id_Mes</th>\n",
       "      <th>Id_Dia_Semana</th>\n",
       "      <th>Id_Periodo</th>\n",
       "      <th>Dia</th>\n",
       "    </tr>\n",
       "  </thead>\n",
       "  <tbody>\n",
       "    <tr>\n",
       "      <th>count</th>\n",
       "      <td>80.000000</td>\n",
       "      <td>80.000000</td>\n",
       "      <td>80.000000</td>\n",
       "      <td>80.000000</td>\n",
       "      <td>80.000000</td>\n",
       "    </tr>\n",
       "    <tr>\n",
       "      <th>mean</th>\n",
       "      <td>12.262500</td>\n",
       "      <td>2.975000</td>\n",
       "      <td>3.925000</td>\n",
       "      <td>2.512500</td>\n",
       "      <td>11.762500</td>\n",
       "    </tr>\n",
       "    <tr>\n",
       "      <th>std</th>\n",
       "      <td>6.227224</td>\n",
       "      <td>1.078853</td>\n",
       "      <td>1.589324</td>\n",
       "      <td>0.941232</td>\n",
       "      <td>6.455777</td>\n",
       "    </tr>\n",
       "    <tr>\n",
       "      <th>min</th>\n",
       "      <td>0.000000</td>\n",
       "      <td>2.000000</td>\n",
       "      <td>1.000000</td>\n",
       "      <td>1.000000</td>\n",
       "      <td>3.000000</td>\n",
       "    </tr>\n",
       "    <tr>\n",
       "      <th>25%</th>\n",
       "      <td>9.000000</td>\n",
       "      <td>3.000000</td>\n",
       "      <td>3.000000</td>\n",
       "      <td>2.000000</td>\n",
       "      <td>9.000000</td>\n",
       "    </tr>\n",
       "    <tr>\n",
       "      <th>50%</th>\n",
       "      <td>12.000000</td>\n",
       "      <td>3.000000</td>\n",
       "      <td>4.000000</td>\n",
       "      <td>2.000000</td>\n",
       "      <td>10.000000</td>\n",
       "    </tr>\n",
       "    <tr>\n",
       "      <th>75%</th>\n",
       "      <td>17.000000</td>\n",
       "      <td>3.000000</td>\n",
       "      <td>5.000000</td>\n",
       "      <td>3.000000</td>\n",
       "      <td>12.000000</td>\n",
       "    </tr>\n",
       "    <tr>\n",
       "      <th>max</th>\n",
       "      <td>23.000000</td>\n",
       "      <td>12.000000</td>\n",
       "      <td>7.000000</td>\n",
       "      <td>4.000000</td>\n",
       "      <td>29.000000</td>\n",
       "    </tr>\n",
       "  </tbody>\n",
       "</table>\n",
       "</div>"
      ],
      "text/plain": [
       "            Hora     Id_Mes  Id_Dia_Semana  Id_Periodo        Dia\n",
       "count  80.000000  80.000000      80.000000   80.000000  80.000000\n",
       "mean   12.262500   2.975000       3.925000    2.512500  11.762500\n",
       "std     6.227224   1.078853       1.589324    0.941232   6.455777\n",
       "min     0.000000   2.000000       1.000000    1.000000   3.000000\n",
       "25%     9.000000   3.000000       3.000000    2.000000   9.000000\n",
       "50%    12.000000   3.000000       4.000000    2.000000  10.000000\n",
       "75%    17.000000   3.000000       5.000000    3.000000  12.000000\n",
       "max    23.000000  12.000000       7.000000    4.000000  29.000000"
      ]
     },
     "execution_count": 30,
     "metadata": {},
     "output_type": "execute_result"
    }
   ],
   "source": [
    "df.describe()"
   ]
  },
  {
   "cell_type": "code",
   "execution_count": 31,
   "metadata": {},
   "outputs": [
    {
     "data": {
      "text/plain": [
       "2     26\n",
       "1     24\n",
       "3     22\n",
       "4A     5\n",
       "4B     3\n",
       "Name: Prioridade, dtype: int64"
      ]
     },
     "execution_count": 31,
     "metadata": {},
     "output_type": "execute_result"
    }
   ],
   "source": [
    "df['Prioridade'].value_counts()"
   ]
  },
  {
   "cell_type": "code",
   "execution_count": 32,
   "metadata": {
    "colab": {
     "base_uri": "https://localhost:8080/",
     "height": 144
    },
    "colab_type": "code",
    "id": "qiACBDtNzROZ",
    "outputId": "6b6eb5e6-7af8-4b0e-e021-19ca9f318db1"
   },
   "outputs": [
    {
     "data": {
      "text/plain": [
       "Adulto           37\n",
       "Não Informado    32\n",
       "Coronariano       8\n",
       "Pediátrico        2\n",
       "Neonatal          1\n",
       "Name: Subtipo_Leito, dtype: int64"
      ]
     },
     "execution_count": 32,
     "metadata": {},
     "output_type": "execute_result"
    }
   ],
   "source": [
    "df['Subtipo_Leito'].value_counts()"
   ]
  },
  {
   "cell_type": "code",
   "execution_count": 33,
   "metadata": {
    "colab": {},
    "colab_type": "code",
    "id": "lVCsvjUuPE-C"
   },
   "outputs": [],
   "source": [
    "# Gerando CSV para mostrar os dados no PowerBI\n",
    "df.to_csv('lista_espera_leitos_uti.csv')"
   ]
  }
 ],
 "metadata": {
  "colab": {
   "collapsed_sections": [],
   "name": "LISTA_ESPERA_LEITOS.ipynb",
   "provenance": [],
   "toc_visible": true
  },
  "kernelspec": {
   "display_name": "Python 3",
   "language": "python",
   "name": "python3"
  },
  "language_info": {
   "codemirror_mode": {
    "name": "ipython",
    "version": 3
   },
   "file_extension": ".py",
   "mimetype": "text/x-python",
   "name": "python",
   "nbconvert_exporter": "python",
   "pygments_lexer": "ipython3",
   "version": "3.6.8"
  }
 },
 "nbformat": 4,
 "nbformat_minor": 1
}
